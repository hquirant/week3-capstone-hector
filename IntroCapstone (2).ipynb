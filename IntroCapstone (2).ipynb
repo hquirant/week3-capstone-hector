{
 "cells": [
  {
   "cell_type": "markdown",
   "metadata": {},
   "source": [
    "#### Introduction business problem"
   ]
  },
  {
   "cell_type": "markdown",
   "metadata": {},
   "source": [
    "The idea is to choose the best place to set up a new supermarket in Toronto. A small group of investors would like to add a new franchise supermarket to the city of Toronto and asked advice about in which location it would reach more potential clients.\n",
    "\n",
    "An important factor when choosing which supermarket to go is distance. We tend to do our groceries in the closest supermarket available unless it presents many disadvantages compared with others that are further away. \n",
    "The aim is to choose a location with high population around but where there are not yet many supermarkets. \n",
    "\n",
    "#### Data and methodoloty\n",
    "\n",
    "For this purpose I will start using the data from the wikipedia page https://en.wikipedia.org/wiki/List_of_postal_codes_of_Canada:_M as in the previous assignment.\n",
    "Similarly I will cluster neighbourhoods, but in this case using a higher number of clusters.\n",
    "The idea is to divide the city in 10 parts of similar size.\n",
    "\n",
    "Once that is done, I will use foursquares to find out where the supermarkets of Toronto are currently located.\n",
    "\n",
    "Having the supermarkets displayed on the map will make visually clear which clusters of neighbourhoods are already 'full' with supermarkets and which ones contain fewer supermarkets.\n",
    "\n",
    "Of course, dividing the city in 10 parts of similar city doesn't tell us everything about how the population is distributed in Toronto. For this reason I will also extract data about demographics from another wikipedia page: https://en.wikipedia.org/wiki/Demographics_of_Toronto_neighbourhoods' and get a table where the neighbourhoods are ordered by population.\n",
    "\n",
    "From this point I will visually choose in which clusters of neighbourhoods a new supermarket would face less competition.\n",
    "\n",
    "The final step will be choosing the most populated neighbourhood among those clusters with few or no supermarkets. \n",
    "\n"
   ]
  },
  {
   "cell_type": "markdown",
   "metadata": {},
   "source": [
    "#### Results\n",
    "\n",
    "If we analyze the map that includes the supermarkets and the clusters we can see that clusters 1 (purple), 4 (light blue, below 1) and 8 (orange, above 1) don't have almost any supermarket around. In the middle of these 3 clusters we find Islington, belonging to cluster 1. This neighbourhood is very far away from any supermarket, but we still have to study some other facts about this neighbourhood.\n",
    "\n",
    "Is clear that cluster 0 (red) is the one with higher density of population and also with the highest salaries... but is already so crowded with supermarkets!\n",
    "\n",
    "Cluster 5 (light green, above 0) could also be a good choice, but cluster 1 is also surrounded by two other clusters lacking supermarkets.\n"
   ]
  },
  {
   "cell_type": "markdown",
   "metadata": {},
   "source": [
    "#### Discussion\n",
    "\n",
    "After displaying the population data of Islington is clear that is a good choice. Islington presents a relatively large population and level of income slightly above average. All these facts seems to make it a perfect place to locate a new supermarket and having a guaranteed affluence of people"
   ]
  }
 ],
 "metadata": {
  "kernelspec": {
   "display_name": "Python 3",
   "language": "python",
   "name": "python3"
  },
  "language_info": {
   "codemirror_mode": {
    "name": "ipython",
    "version": 3
   },
   "file_extension": ".py",
   "mimetype": "text/x-python",
   "name": "python",
   "nbconvert_exporter": "python",
   "pygments_lexer": "ipython3",
   "version": "3.6.6"
  }
 },
 "nbformat": 4,
 "nbformat_minor": 2
}
